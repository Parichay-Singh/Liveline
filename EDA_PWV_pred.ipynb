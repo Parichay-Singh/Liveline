{
 "metadata": {
  "language_info": {
   "codemirror_mode": {
    "name": "ipython",
    "version": 3
   },
   "file_extension": ".py",
   "mimetype": "text/x-python",
   "name": "python",
   "nbconvert_exporter": "python",
   "pygments_lexer": "ipython3",
   "version": "3.7.7-final"
  },
  "orig_nbformat": 2,
  "kernelspec": {
   "name": "Python 3.7.7 64-bit ('base': conda)",
   "display_name": "Python 3.7.7 64-bit ('base': conda)",
   "metadata": {
    "interpreter": {
     "hash": "b3ba2566441a7c06988d0923437866b63cedc61552a5af99d1f4fb67d367b25f"
    }
   }
  }
 },
 "nbformat": 4,
 "nbformat_minor": 2,
 "cells": [
  {
   "source": [
    "## Importing necessary libraries"
   ],
   "cell_type": "markdown",
   "metadata": {}
  },
  {
   "cell_type": "code",
   "execution_count": 41,
   "metadata": {},
   "outputs": [],
   "source": [
    "import numpy as np \n",
    "import pandas as pd \n",
    "from sklearn.metrics import mean_absolute_error"
   ]
  },
  {
   "source": [
    "## Importing kaggle hosted body measurement dataset"
   ],
   "cell_type": "markdown",
   "metadata": {}
  },
  {
   "cell_type": "code",
   "execution_count": 42,
   "metadata": {},
   "outputs": [
    {
     "output_type": "execute_result",
     "data": {
      "text/plain": [
       "   weight  height  diastolic_blood_pressure  systolic_blood_pressure  \\\n",
       "0  107.21     175                     84.96                   138.41   \n",
       "1  112.00     186                     88.71                   121.23   \n",
       "2   93.72     207                     89.89                   118.24   \n",
       "3   55.75     189                     86.05                   116.02   \n",
       "4  107.27     199                     87.89                   117.10   \n",
       "\n",
       "   heart_pulse  temperature  pulse_wave_velocity  oxygen_saturation  \n",
       "0          154        37.52                 7.69                 88  \n",
       "1           85        37.76                 6.28                 97  \n",
       "2          107        35.76                 6.78                 81  \n",
       "3          141        37.44                 9.80                 82  \n",
       "4           86        37.30                 9.85                 95  "
      ],
      "text/html": "<div>\n<style scoped>\n    .dataframe tbody tr th:only-of-type {\n        vertical-align: middle;\n    }\n\n    .dataframe tbody tr th {\n        vertical-align: top;\n    }\n\n    .dataframe thead th {\n        text-align: right;\n    }\n</style>\n<table border=\"1\" class=\"dataframe\">\n  <thead>\n    <tr style=\"text-align: right;\">\n      <th></th>\n      <th>weight</th>\n      <th>height</th>\n      <th>diastolic_blood_pressure</th>\n      <th>systolic_blood_pressure</th>\n      <th>heart_pulse</th>\n      <th>temperature</th>\n      <th>pulse_wave_velocity</th>\n      <th>oxygen_saturation</th>\n    </tr>\n  </thead>\n  <tbody>\n    <tr>\n      <th>0</th>\n      <td>107.21</td>\n      <td>175</td>\n      <td>84.96</td>\n      <td>138.41</td>\n      <td>154</td>\n      <td>37.52</td>\n      <td>7.69</td>\n      <td>88</td>\n    </tr>\n    <tr>\n      <th>1</th>\n      <td>112.00</td>\n      <td>186</td>\n      <td>88.71</td>\n      <td>121.23</td>\n      <td>85</td>\n      <td>37.76</td>\n      <td>6.28</td>\n      <td>97</td>\n    </tr>\n    <tr>\n      <th>2</th>\n      <td>93.72</td>\n      <td>207</td>\n      <td>89.89</td>\n      <td>118.24</td>\n      <td>107</td>\n      <td>35.76</td>\n      <td>6.78</td>\n      <td>81</td>\n    </tr>\n    <tr>\n      <th>3</th>\n      <td>55.75</td>\n      <td>189</td>\n      <td>86.05</td>\n      <td>116.02</td>\n      <td>141</td>\n      <td>37.44</td>\n      <td>9.80</td>\n      <td>82</td>\n    </tr>\n    <tr>\n      <th>4</th>\n      <td>107.27</td>\n      <td>199</td>\n      <td>87.89</td>\n      <td>117.10</td>\n      <td>86</td>\n      <td>37.30</td>\n      <td>9.85</td>\n      <td>95</td>\n    </tr>\n  </tbody>\n</table>\n</div>"
     },
     "metadata": {},
     "execution_count": 42
    }
   ],
   "source": [
    "df=pd.read_csv('D:/VIT Hack Proj/1520792014405.csv')\n",
    "df.head()"
   ]
  },
  {
   "cell_type": "code",
   "execution_count": 43,
   "metadata": {},
   "outputs": [
    {
     "output_type": "execute_result",
     "data": {
      "text/plain": [
       "weight                      float64\n",
       "height                        int64\n",
       "diastolic_blood_pressure    float64\n",
       "systolic_blood_pressure     float64\n",
       "heart_pulse                   int64\n",
       "temperature                 float64\n",
       "pulse_wave_velocity         float64\n",
       "oxygen_saturation             int64\n",
       "dtype: object"
      ]
     },
     "metadata": {},
     "execution_count": 43
    }
   ],
   "source": [
    "df.dtypes"
   ]
  },
  {
   "source": [
    "## Converting all the int values to float ones"
   ],
   "cell_type": "markdown",
   "metadata": {}
  },
  {
   "cell_type": "code",
   "execution_count": 44,
   "metadata": {},
   "outputs": [],
   "source": [
    "df['height']=df['height'].astype(float)\n",
    "df['heart_pulse']=df['heart_pulse'].astype(float)\n",
    "df['oxygen_saturation']=df['oxygen_saturation'].astype(float)"
   ]
  },
  {
   "cell_type": "code",
   "execution_count": 45,
   "metadata": {},
   "outputs": [
    {
     "output_type": "execute_result",
     "data": {
      "text/plain": [
       "weight                      float64\n",
       "height                      float64\n",
       "diastolic_blood_pressure    float64\n",
       "systolic_blood_pressure     float64\n",
       "heart_pulse                 float64\n",
       "temperature                 float64\n",
       "pulse_wave_velocity         float64\n",
       "oxygen_saturation           float64\n",
       "dtype: object"
      ]
     },
     "metadata": {},
     "execution_count": 45
    }
   ],
   "source": [
    "df.dtypes"
   ]
  },
  {
   "source": [
    "## Splitting dataset into features and labels\n",
    "We will be using pulse wave velocity as a label while all others will be used as features."
   ],
   "cell_type": "markdown",
   "metadata": {}
  },
  {
   "cell_type": "code",
   "execution_count": 46,
   "metadata": {},
   "outputs": [
    {
     "output_type": "execute_result",
     "data": {
      "text/plain": [
       "       weight  height  diastolic_blood_pressure  systolic_blood_pressure  \\\n",
       "0      107.21   175.0                     84.96                   138.41   \n",
       "1      112.00   186.0                     88.71                   121.23   \n",
       "2       93.72   207.0                     89.89                   118.24   \n",
       "3       55.75   189.0                     86.05                   116.02   \n",
       "4      107.27   199.0                     87.89                   117.10   \n",
       "...       ...     ...                       ...                      ...   \n",
       "19884  107.23   205.0                     80.51                   121.41   \n",
       "19885   51.05   175.0                     89.76                   120.21   \n",
       "19886   54.91   189.0                     91.37                   126.26   \n",
       "19887  110.59   161.0                     88.36                   128.80   \n",
       "19888   97.26   176.0                     89.46                   123.06   \n",
       "\n",
       "       heart_pulse  temperature  oxygen_saturation  \n",
       "0            154.0        37.52               88.0  \n",
       "1             85.0        37.76               97.0  \n",
       "2            107.0        35.76               81.0  \n",
       "3            141.0        37.44               82.0  \n",
       "4             86.0        37.30               95.0  \n",
       "...            ...          ...                ...  \n",
       "19884        106.0        37.95               84.0  \n",
       "19885         57.0        36.32               89.0  \n",
       "19886        153.0        37.19               98.0  \n",
       "19887         75.0        36.77               76.0  \n",
       "19888         94.0        36.13               76.0  \n",
       "\n",
       "[19889 rows x 7 columns]"
      ],
      "text/html": "<div>\n<style scoped>\n    .dataframe tbody tr th:only-of-type {\n        vertical-align: middle;\n    }\n\n    .dataframe tbody tr th {\n        vertical-align: top;\n    }\n\n    .dataframe thead th {\n        text-align: right;\n    }\n</style>\n<table border=\"1\" class=\"dataframe\">\n  <thead>\n    <tr style=\"text-align: right;\">\n      <th></th>\n      <th>weight</th>\n      <th>height</th>\n      <th>diastolic_blood_pressure</th>\n      <th>systolic_blood_pressure</th>\n      <th>heart_pulse</th>\n      <th>temperature</th>\n      <th>oxygen_saturation</th>\n    </tr>\n  </thead>\n  <tbody>\n    <tr>\n      <th>0</th>\n      <td>107.21</td>\n      <td>175.0</td>\n      <td>84.96</td>\n      <td>138.41</td>\n      <td>154.0</td>\n      <td>37.52</td>\n      <td>88.0</td>\n    </tr>\n    <tr>\n      <th>1</th>\n      <td>112.00</td>\n      <td>186.0</td>\n      <td>88.71</td>\n      <td>121.23</td>\n      <td>85.0</td>\n      <td>37.76</td>\n      <td>97.0</td>\n    </tr>\n    <tr>\n      <th>2</th>\n      <td>93.72</td>\n      <td>207.0</td>\n      <td>89.89</td>\n      <td>118.24</td>\n      <td>107.0</td>\n      <td>35.76</td>\n      <td>81.0</td>\n    </tr>\n    <tr>\n      <th>3</th>\n      <td>55.75</td>\n      <td>189.0</td>\n      <td>86.05</td>\n      <td>116.02</td>\n      <td>141.0</td>\n      <td>37.44</td>\n      <td>82.0</td>\n    </tr>\n    <tr>\n      <th>4</th>\n      <td>107.27</td>\n      <td>199.0</td>\n      <td>87.89</td>\n      <td>117.10</td>\n      <td>86.0</td>\n      <td>37.30</td>\n      <td>95.0</td>\n    </tr>\n    <tr>\n      <th>...</th>\n      <td>...</td>\n      <td>...</td>\n      <td>...</td>\n      <td>...</td>\n      <td>...</td>\n      <td>...</td>\n      <td>...</td>\n    </tr>\n    <tr>\n      <th>19884</th>\n      <td>107.23</td>\n      <td>205.0</td>\n      <td>80.51</td>\n      <td>121.41</td>\n      <td>106.0</td>\n      <td>37.95</td>\n      <td>84.0</td>\n    </tr>\n    <tr>\n      <th>19885</th>\n      <td>51.05</td>\n      <td>175.0</td>\n      <td>89.76</td>\n      <td>120.21</td>\n      <td>57.0</td>\n      <td>36.32</td>\n      <td>89.0</td>\n    </tr>\n    <tr>\n      <th>19886</th>\n      <td>54.91</td>\n      <td>189.0</td>\n      <td>91.37</td>\n      <td>126.26</td>\n      <td>153.0</td>\n      <td>37.19</td>\n      <td>98.0</td>\n    </tr>\n    <tr>\n      <th>19887</th>\n      <td>110.59</td>\n      <td>161.0</td>\n      <td>88.36</td>\n      <td>128.80</td>\n      <td>75.0</td>\n      <td>36.77</td>\n      <td>76.0</td>\n    </tr>\n    <tr>\n      <th>19888</th>\n      <td>97.26</td>\n      <td>176.0</td>\n      <td>89.46</td>\n      <td>123.06</td>\n      <td>94.0</td>\n      <td>36.13</td>\n      <td>76.0</td>\n    </tr>\n  </tbody>\n</table>\n<p>19889 rows × 7 columns</p>\n</div>"
     },
     "metadata": {},
     "execution_count": 46
    }
   ],
   "source": [
    "x_train=df.iloc[:,[0,1,2,3,4,5,7]]\n",
    "x_train"
   ]
  },
  {
   "cell_type": "code",
   "execution_count": 47,
   "metadata": {},
   "outputs": [
    {
     "output_type": "execute_result",
     "data": {
      "text/plain": [
       "0        7.69\n",
       "1        6.28\n",
       "2        6.78\n",
       "3        9.80\n",
       "4        9.85\n",
       "         ... \n",
       "19884    7.75\n",
       "19885    9.10\n",
       "19886    8.72\n",
       "19887    7.80\n",
       "19888    9.68\n",
       "Name: pulse_wave_velocity, Length: 19889, dtype: float64"
      ]
     },
     "metadata": {},
     "execution_count": 47
    }
   ],
   "source": [
    "y_train=df.iloc[:,6]\n",
    "y_train"
   ]
  },
  {
   "source": [
    "## Suppport Vector Regression\n",
    "We will be using SVR with radial bias function as kernel"
   ],
   "cell_type": "markdown",
   "metadata": {}
  },
  {
   "cell_type": "code",
   "execution_count": 48,
   "metadata": {
    "tags": []
   },
   "outputs": [],
   "source": [
    "from sklearn.svm import SVR\n",
    "svr_rbf = SVR(kernel='rbf', C=100, gamma=0.1, epsilon=.1)\n",
    "svr_lin = SVR(kernel='linear', C=100, gamma='auto')\n",
    "svr_poly = SVR(kernel='poly', C=100, gamma='auto', degree=3, epsilon=.1,\n",
    "               coef0=1)\n"
   ]
  },
  {
   "cell_type": "code",
   "execution_count": 49,
   "metadata": {},
   "outputs": [
    {
     "output_type": "execute_result",
     "data": {
      "text/plain": [
       "SVR(C=100, cache_size=200, coef0=0.0, degree=3, epsilon=0.1, gamma=0.1,\n",
       "    kernel='rbf', max_iter=-1, shrinking=True, tol=0.001, verbose=False)"
      ]
     },
     "metadata": {},
     "execution_count": 49
    }
   ],
   "source": [
    "svr_rbf.fit(x_train,y_train)"
   ]
  },
  {
   "source": [
    "## Importing different test dataset\n",
    "Importing test dataset and applying similar pre-processing to earlier"
   ],
   "cell_type": "markdown",
   "metadata": {}
  },
  {
   "cell_type": "code",
   "execution_count": 50,
   "metadata": {},
   "outputs": [
    {
     "output_type": "execute_result",
     "data": {
      "text/plain": [
       "   weight  height  diastolic_blood_pressure  systolic_blood_pressure  \\\n",
       "0  125.84     164                     83.71                   122.31   \n",
       "1   87.25     169                     81.70                   128.17   \n",
       "2   62.00     202                     88.51                   115.18   \n",
       "3   63.42     170                     81.20                   119.82   \n",
       "4  127.82     202                     86.59                   137.51   \n",
       "\n",
       "   heart_pulse  temperature  pulse_wave_velocity  oxygen_saturation  \n",
       "0          151        37.79                 8.10                 93  \n",
       "1          167        36.14                 7.14                 95  \n",
       "2           74        36.60                 9.23                 92  \n",
       "3          111        37.54                 8.76                 77  \n",
       "4          174        35.60                 9.67                 80  "
      ],
      "text/html": "<div>\n<style scoped>\n    .dataframe tbody tr th:only-of-type {\n        vertical-align: middle;\n    }\n\n    .dataframe tbody tr th {\n        vertical-align: top;\n    }\n\n    .dataframe thead th {\n        text-align: right;\n    }\n</style>\n<table border=\"1\" class=\"dataframe\">\n  <thead>\n    <tr style=\"text-align: right;\">\n      <th></th>\n      <th>weight</th>\n      <th>height</th>\n      <th>diastolic_blood_pressure</th>\n      <th>systolic_blood_pressure</th>\n      <th>heart_pulse</th>\n      <th>temperature</th>\n      <th>pulse_wave_velocity</th>\n      <th>oxygen_saturation</th>\n    </tr>\n  </thead>\n  <tbody>\n    <tr>\n      <th>0</th>\n      <td>125.84</td>\n      <td>164</td>\n      <td>83.71</td>\n      <td>122.31</td>\n      <td>151</td>\n      <td>37.79</td>\n      <td>8.10</td>\n      <td>93</td>\n    </tr>\n    <tr>\n      <th>1</th>\n      <td>87.25</td>\n      <td>169</td>\n      <td>81.70</td>\n      <td>128.17</td>\n      <td>167</td>\n      <td>36.14</td>\n      <td>7.14</td>\n      <td>95</td>\n    </tr>\n    <tr>\n      <th>2</th>\n      <td>62.00</td>\n      <td>202</td>\n      <td>88.51</td>\n      <td>115.18</td>\n      <td>74</td>\n      <td>36.60</td>\n      <td>9.23</td>\n      <td>92</td>\n    </tr>\n    <tr>\n      <th>3</th>\n      <td>63.42</td>\n      <td>170</td>\n      <td>81.20</td>\n      <td>119.82</td>\n      <td>111</td>\n      <td>37.54</td>\n      <td>8.76</td>\n      <td>77</td>\n    </tr>\n    <tr>\n      <th>4</th>\n      <td>127.82</td>\n      <td>202</td>\n      <td>86.59</td>\n      <td>137.51</td>\n      <td>174</td>\n      <td>35.60</td>\n      <td>9.67</td>\n      <td>80</td>\n    </tr>\n  </tbody>\n</table>\n</div>"
     },
     "metadata": {},
     "execution_count": 50
    }
   ],
   "source": [
    "df2=pd.read_csv('D:/VIT Hack Proj/3560848988588.csv')\n",
    "df2.head()"
   ]
  },
  {
   "cell_type": "code",
   "execution_count": 51,
   "metadata": {},
   "outputs": [],
   "source": [
    "df2['height']=df2['height'].astype(float)\n",
    "df2['heart_pulse']=df2['heart_pulse'].astype(float)\n",
    "df2['oxygen_saturation']=df2['oxygen_saturation'].astype(float)"
   ]
  },
  {
   "cell_type": "code",
   "execution_count": 52,
   "metadata": {},
   "outputs": [
    {
     "output_type": "execute_result",
     "data": {
      "text/plain": [
       "       weight  height  diastolic_blood_pressure  systolic_blood_pressure  \\\n",
       "0      125.84   164.0                     83.71                   122.31   \n",
       "1       87.25   169.0                     81.70                   128.17   \n",
       "2       62.00   202.0                     88.51                   115.18   \n",
       "3       63.42   170.0                     81.20                   119.82   \n",
       "4      127.82   202.0                     86.59                   137.51   \n",
       "...       ...     ...                       ...                      ...   \n",
       "14367   57.31   188.0                     90.16                   126.35   \n",
       "14368   78.70   187.0                     93.25                   129.04   \n",
       "14369  103.95   189.0                     85.79                   135.74   \n",
       "14370  126.82   204.0                     91.71                   119.88   \n",
       "14371  130.11   161.0                     94.91                   116.99   \n",
       "\n",
       "       heart_pulse  temperature  oxygen_saturation  \n",
       "0            151.0        37.79               93.0  \n",
       "1            167.0        36.14               95.0  \n",
       "2             74.0        36.60               92.0  \n",
       "3            111.0        37.54               77.0  \n",
       "4            174.0        35.60               80.0  \n",
       "...            ...          ...                ...  \n",
       "14367        144.0        37.78               99.0  \n",
       "14368        123.0        37.87               78.0  \n",
       "14369        170.0        36.94               89.0  \n",
       "14370         59.0        35.25               94.0  \n",
       "14371         85.0        37.06               98.0  \n",
       "\n",
       "[14372 rows x 7 columns]"
      ],
      "text/html": "<div>\n<style scoped>\n    .dataframe tbody tr th:only-of-type {\n        vertical-align: middle;\n    }\n\n    .dataframe tbody tr th {\n        vertical-align: top;\n    }\n\n    .dataframe thead th {\n        text-align: right;\n    }\n</style>\n<table border=\"1\" class=\"dataframe\">\n  <thead>\n    <tr style=\"text-align: right;\">\n      <th></th>\n      <th>weight</th>\n      <th>height</th>\n      <th>diastolic_blood_pressure</th>\n      <th>systolic_blood_pressure</th>\n      <th>heart_pulse</th>\n      <th>temperature</th>\n      <th>oxygen_saturation</th>\n    </tr>\n  </thead>\n  <tbody>\n    <tr>\n      <th>0</th>\n      <td>125.84</td>\n      <td>164.0</td>\n      <td>83.71</td>\n      <td>122.31</td>\n      <td>151.0</td>\n      <td>37.79</td>\n      <td>93.0</td>\n    </tr>\n    <tr>\n      <th>1</th>\n      <td>87.25</td>\n      <td>169.0</td>\n      <td>81.70</td>\n      <td>128.17</td>\n      <td>167.0</td>\n      <td>36.14</td>\n      <td>95.0</td>\n    </tr>\n    <tr>\n      <th>2</th>\n      <td>62.00</td>\n      <td>202.0</td>\n      <td>88.51</td>\n      <td>115.18</td>\n      <td>74.0</td>\n      <td>36.60</td>\n      <td>92.0</td>\n    </tr>\n    <tr>\n      <th>3</th>\n      <td>63.42</td>\n      <td>170.0</td>\n      <td>81.20</td>\n      <td>119.82</td>\n      <td>111.0</td>\n      <td>37.54</td>\n      <td>77.0</td>\n    </tr>\n    <tr>\n      <th>4</th>\n      <td>127.82</td>\n      <td>202.0</td>\n      <td>86.59</td>\n      <td>137.51</td>\n      <td>174.0</td>\n      <td>35.60</td>\n      <td>80.0</td>\n    </tr>\n    <tr>\n      <th>...</th>\n      <td>...</td>\n      <td>...</td>\n      <td>...</td>\n      <td>...</td>\n      <td>...</td>\n      <td>...</td>\n      <td>...</td>\n    </tr>\n    <tr>\n      <th>14367</th>\n      <td>57.31</td>\n      <td>188.0</td>\n      <td>90.16</td>\n      <td>126.35</td>\n      <td>144.0</td>\n      <td>37.78</td>\n      <td>99.0</td>\n    </tr>\n    <tr>\n      <th>14368</th>\n      <td>78.70</td>\n      <td>187.0</td>\n      <td>93.25</td>\n      <td>129.04</td>\n      <td>123.0</td>\n      <td>37.87</td>\n      <td>78.0</td>\n    </tr>\n    <tr>\n      <th>14369</th>\n      <td>103.95</td>\n      <td>189.0</td>\n      <td>85.79</td>\n      <td>135.74</td>\n      <td>170.0</td>\n      <td>36.94</td>\n      <td>89.0</td>\n    </tr>\n    <tr>\n      <th>14370</th>\n      <td>126.82</td>\n      <td>204.0</td>\n      <td>91.71</td>\n      <td>119.88</td>\n      <td>59.0</td>\n      <td>35.25</td>\n      <td>94.0</td>\n    </tr>\n    <tr>\n      <th>14371</th>\n      <td>130.11</td>\n      <td>161.0</td>\n      <td>94.91</td>\n      <td>116.99</td>\n      <td>85.0</td>\n      <td>37.06</td>\n      <td>98.0</td>\n    </tr>\n  </tbody>\n</table>\n<p>14372 rows × 7 columns</p>\n</div>"
     },
     "metadata": {},
     "execution_count": 52
    }
   ],
   "source": [
    "x_test=df2.iloc[:,[0,1,2,3,4,5,7]]\n",
    "x_test"
   ]
  },
  {
   "cell_type": "code",
   "execution_count": 53,
   "metadata": {},
   "outputs": [
    {
     "output_type": "execute_result",
     "data": {
      "text/plain": [
       "0        8.10\n",
       "1        7.14\n",
       "2        9.23\n",
       "3        8.76\n",
       "4        9.67\n",
       "         ... \n",
       "14367    8.47\n",
       "14368    9.72\n",
       "14369    8.86\n",
       "14370    8.32\n",
       "14371    8.95\n",
       "Name: pulse_wave_velocity, Length: 14372, dtype: float64"
      ]
     },
     "metadata": {},
     "execution_count": 53
    }
   ],
   "source": [
    "y_test=df2.iloc[:,6]\n",
    "y_test"
   ]
  },
  {
   "source": [
    "## Error calculation using Mean Absolute Error as a metric"
   ],
   "cell_type": "markdown",
   "metadata": {}
  },
  {
   "cell_type": "code",
   "execution_count": 54,
   "metadata": {},
   "outputs": [],
   "source": [
    "from sklearn.metrics import mean_absolute_error\n"
   ]
  },
  {
   "cell_type": "code",
   "execution_count": 55,
   "metadata": {},
   "outputs": [
    {
     "output_type": "execute_result",
     "data": {
      "text/plain": [
       "0.9953853026095617"
      ]
     },
     "metadata": {},
     "execution_count": 55
    }
   ],
   "source": [
    "y_pred=svr_rbf.predict(x_test)\n",
    "mean_absolute_error(y_test,y_pred)"
   ]
  },
  {
   "cell_type": "code",
   "execution_count": 58,
   "metadata": {},
   "outputs": [
    {
     "output_type": "execute_result",
     "data": {
      "text/plain": [
       "count    14372.000000\n",
       "mean         8.006094\n",
       "std          1.149034\n",
       "min          6.000000\n",
       "25%          7.030000\n",
       "50%          8.000000\n",
       "75%          8.990000\n",
       "max         10.000000\n",
       "Name: pulse_wave_velocity, dtype: float64"
      ]
     },
     "metadata": {},
     "execution_count": 58
    }
   ],
   "source": [
    "df2['pulse_wave_velocity'].describe()"
   ]
  },
  {
   "source": [
    "## Error inference\n",
    "Since the PWV values range between 6 and 10 with a std deviation of 1.14, an error of 0.99 is pretty accurate for prediction and inferring."
   ],
   "cell_type": "markdown",
   "metadata": {}
  }
 ]
}